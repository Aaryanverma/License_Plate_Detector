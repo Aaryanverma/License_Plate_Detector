{
 "cells": [
  {
   "cell_type": "markdown",
   "metadata": {},
   "source": [
    "# Submitted by: Aaryan Verma"
   ]
  },
  {
   "cell_type": "code",
   "execution_count": 2,
   "metadata": {},
   "outputs": [],
   "source": [
    "import numpy as np\n",
    "import matplotlib.pyplot as plt\n",
    "import pandas as pd\n",
    "from PIL import Image, ImageFilter\n",
    "import cv2\n",
    "import json\n",
    "from os import listdir\n",
    "from os.path import isfile, join\n",
    "from imutils import contours"
   ]
  },
  {
   "cell_type": "markdown",
   "metadata": {},
   "source": [
    "# Plate Detector - Tries to detect plates from input image"
   ]
  },
  {
   "cell_type": "code",
   "execution_count": 32,
   "metadata": {},
   "outputs": [
    {
     "data": {
      "image/png": "[encoded data removed]",
      "text/plain": [
       "<Figure size 432x288 with 1 Axes>"
      ]
     },
     "metadata": {
      "needs_background": "light"
     },
     "output_type": "display_data"
    }
   ],
   "source": [
    "img = cv2.imread(\"E:\\\\Machine_Learning_Models\\\\numberplate_dataset\\\\Cars\\\\10.jpg\")\n",
    "#convert my image to grayscale\n",
    "gray = cv2.cvtColor(img, cv2.COLOR_BGR2GRAY)\n",
    "#perform adaptive threshold so that I can extract proper contours from the image\n",
    "#need this to extract the name plate from the image. \n",
    "thresh = cv2.adaptiveThreshold(gray,255,cv2.ADAPTIVE_THRESH_GAUSSIAN_C, cv2.THRESH_BINARY,11,2)\n",
    "_,contours,h = cv2.findContours(thresh,1,2)\n",
    "\n",
    "#once I have the contours list, i need to find the contours which form rectangles.\n",
    "#the contours can be approximated to minimum polygons, polygons of size 4 are probably rectangles\n",
    "largest_rectangle = [0,0]\n",
    "for cnt in contours:\n",
    "    approx = cv2.approxPolyDP(cnt,0.01*cv2.arcLength(cnt,True),True)\n",
    "    if len(approx)==4: #polygons with 4 points is what I need.\n",
    "        area = cv2.contourArea(cnt)\n",
    "        if area > largest_rectangle[0]:\n",
    "            #find the polygon which has the largest size.\n",
    "            largest_rectangle = [cv2.contourArea(cnt), cnt, approx]\n",
    "\n",
    "x,y,w,h = cv2.boundingRect(largest_rectangle[1])\n",
    "#crop the rectangle to get the number plate.\n",
    "roi=img[y:y+h,x:x+w]\n",
    "#cv2.drawContours(img,[largest_rectangle[1]],0,(0,0,255),-1)\n",
    "plt.imshow(roi, cmap = 'gray')\n",
    "plt.show()"
   ]
  },
  {
   "cell_type": "markdown",
   "metadata": {},
   "source": [
    "# Find Contour on license plate"
   ]
  },
  {
   "cell_type": "code",
   "execution_count": 34,
   "metadata": {},
   "outputs": [],
   "source": [
    "def find_contours(dimensions, img) :\n",
    "\n",
    "    # Find all contours in the image\n",
    "    _, cntrs, _ = cv2.findContours(img.copy(), cv2.RETR_TREE, cv2.CHAIN_APPROX_SIMPLE)\n",
    "\n",
    "    # Retrieve potential dimensions\n",
    "    lower_width = dimensions[0]\n",
    "    upper_width = dimensions[1]\n",
    "    lower_height = dimensions[2]\n",
    "    upper_height = dimensions[3]\n",
    "    \n",
    "    ii = cv2.imread('contour.jpg')\n",
    "    # Check largest 5 or  15 contours for license plate or character respectively\n",
    "    cntrs = sorted(cntrs, key=cv2.contourArea, reverse=True)[:15]\n",
    "\n",
    "    x_cntr_list = []\n",
    "    target_contours = []\n",
    "    img_res = []\n",
    "    for cntr in cntrs :\n",
    "        #detects contour in binary image and returns the coordinates of rectangle enclosing it\n",
    "        intX, intY, intWidth, intHeight = cv2.boundingRect(cntr)\n",
    "        \n",
    "        #checking the dimensions of the contour to filter out the characters by contour's size\n",
    "        if intWidth > lower_width and intWidth < upper_width and intHeight > lower_height and intHeight < upper_height :\n",
    "            x_cntr_list.append(intX) #stores the x coordinate of the character's contour, to used later for indexing the contours\n",
    "\n",
    "            char_copy = np.zeros((44,24))\n",
    "            #extracting each character using the enclosing rectangle's coordinates.\n",
    "            char = img[intY:intY+intHeight, intX:intX+intWidth]\n",
    "            char = cv2.resize(char, (20, 40))\n",
    "            \n",
    "            cv2.rectangle(ii, (intX,intY), (intWidth+intX, intY+intHeight), (50,21,200), 2)\n",
    "            plt.imshow(ii, cmap='gray')\n",
    "\n",
    "            # Make result formatted for classification: invert colors\n",
    "            char = cv2.subtract(255, char)\n",
    "\n",
    "            # Resize the image to 24x44 with black border\n",
    "            char_copy[2:42, 2:22] = char\n",
    "            char_copy[0:2, :] = 0\n",
    "            char_copy[:, 0:2] = 0\n",
    "            char_copy[42:44, :] = 0\n",
    "            char_copy[:, 22:24] = 0\n",
    "\n",
    "            img_res.append(char_copy) #List that stores the character's binary image (unsorted)\n",
    "\n",
    "    #Return characters on ascending order with respect to the x-coordinate (most-left character first)\n",
    "    plt.show()\n",
    "    #arbitrary function that stores sorted list of character indeces\n",
    "    indices = sorted(range(len(x_cntr_list)), key=lambda k: x_cntr_list[k])\n",
    "    img_res_copy = []\n",
    "    for idx in indices:\n",
    "        img_res_copy.append(img_res[idx])# stores character images according to their index\n",
    "    img_res = np.array(img_res_copy)\n",
    "\n",
    "    return img_res"
   ]
  },
  {
   "cell_type": "markdown",
   "metadata": {},
   "source": [
    "# Segmenting Characters in License Plate"
   ]
  },
  {
   "cell_type": "code",
   "execution_count": 37,
   "metadata": {},
   "outputs": [],
   "source": [
    "def segment_characters(image) :\n",
    "\n",
    "    # Preprocess cropped license plate image\n",
    "    img = cv2.resize(image, (333, 75))\n",
    "    img_gray = cv2.cvtColor(img, cv2.COLOR_BGR2GRAY)\n",
    "    _, img_binary = cv2.threshold(img_gray, 200, 255, cv2.THRESH_BINARY+cv2.THRESH_OTSU)\n",
    "    img_erode = cv2.erode(img_binary, (3,3))\n",
    "    img_dilate = cv2.dilate(img_erode, (3,3))\n",
    "\n",
    "    LP_WIDTH = img_dilate.shape[0]\n",
    "    LP_HEIGHT = img_dilate.shape[1]\n",
    "\n",
    "    # Make borders white\n",
    "    img_dilate[0:3,:] = 255\n",
    "    img_dilate[:,0:3] = 255\n",
    "    img_dilate[72:75,:] = 255\n",
    "    img_dilate[:,330:333] = 255\n",
    "\n",
    "    # Estimations of character contours sizes of cropped license plates\n",
    "    dimensions = [LP_WIDTH/6, LP_WIDTH/2, LP_HEIGHT/10, 2*LP_HEIGHT/3]\n",
    "    plt.imshow(img_dilate, cmap='gray')\n",
    "    plt.show()\n",
    "    cv2.imwrite('contour.jpg',img_dilate)\n",
    "\n",
    "    # Get contours within cropped license plate\n",
    "    char_list = find_contours(dimensions, img_dilate)\n",
    "\n",
    "    return char_list"
   ]
  },
  {
   "cell_type": "markdown",
   "metadata": {},
   "source": [
    "# Training Neural Network for OCR of License Plates"
   ]
  },
  {
   "cell_type": "code",
   "execution_count": 210,
   "metadata": {},
   "outputs": [
    {
     "name": "stderr",
     "output_type": "stream",
     "text": [
      "Using TensorFlow backend.\n"
     ]
    }
   ],
   "source": [
    "import tensorflow as tf\n",
    "from keras.preprocessing import image"
   ]
  },
  {
   "cell_type": "code",
   "execution_count": 104,
   "metadata": {},
   "outputs": [
    {
     "name": "stdout",
     "output_type": "stream",
     "text": [
      "Found 864 images belonging to 36 classes.\n",
      "Found 216 images belonging to 36 classes.\n"
     ]
    }
   ],
   "source": [
    "from tensorflow.keras.preprocessing.image import ImageDataGenerator\n",
    "train_datagen = ImageDataGenerator(rescale=1./255, width_shift_range=0.1, height_shift_range=0.1)\n",
    "train_generator = train_datagen.flow_from_directory(\n",
    "        'E:/Machine_Learning_Models/numberplate_dataset/data/train',  # this is the target directory\n",
    "        target_size=(28,28),  # all images will be resized to 28x28\n",
    "        batch_size=1,\n",
    "        class_mode='categorical')\n",
    "\n",
    "validation_generator = train_datagen.flow_from_directory(\n",
    "        'E:/Machine_Learning_Models/numberplate_dataset/data/val',  # this is the target directory\n",
    "        target_size=(28,28),  # all images will be resized to 28x28        batch_size=1,\n",
    "        class_mode='categorical')"
   ]
  },
  {
   "cell_type": "code",
   "execution_count": 105,
   "metadata": {},
   "outputs": [],
   "source": [
    "from tensorflow.keras.models import Sequential\n",
    "from tensorflow.keras.layers import Dense, Flatten, MaxPooling2D, Dropout, Conv2D\n",
    "from tensorflow.keras import optimizers"
   ]
  },
  {
   "cell_type": "code",
   "execution_count": 106,
   "metadata": {},
   "outputs": [],
   "source": [
    "model = Sequential()\n",
    "model.add(Conv2D(32, (24,24), input_shape=(28, 28, 3), activation='relu', padding='same'))\n",
    "# model.add(Conv2D(32, (20,20), input_shape=(28, 28, 3), activation='relu', padding='same'))\n",
    "# model.add(Conv2D(32, (20,20), input_shape=(28, 28, 3), activation='relu', padding='same'))\n",
    "model.add(MaxPooling2D(pool_size=(2, 2)))\n",
    "model.add(Dropout(0.4))\n",
    "model.add(Flatten())\n",
    "model.add(Dense(128, activation='relu'))\n",
    "model.add(Dense(36, activation='softmax'))\n",
    "\n",
    "model.compile(loss='categorical_crossentropy', optimizer=optimizers.Adam(lr=0.00001), metrics=['accuracy'])"
   ]
  },
  {
   "cell_type": "code",
   "execution_count": 114,
   "metadata": {},
   "outputs": [
    {
     "name": "stdout",
     "output_type": "stream",
     "text": [
      "Epoch 1/20\n",
      "864/864 [==============================] - 81s 94ms/step - loss: 1.7259 - accuracy: 0.5463 - val_loss: 1.5321 - val_accuracy: 0.6906\n",
      "Epoch 2/20\n",
      "864/864 [==============================] - 81s 94ms/step - loss: 1.4763 - accuracy: 0.6146 - val_loss: 1.2875 - val_accuracy: 0.7361\n",
      "Epoch 3/20\n",
      "864/864 [==============================] - 82s 94ms/step - loss: 1.2383 - accuracy: 0.6597 - val_loss: 1.1414 - val_accuracy: 0.7472\n",
      "Epoch 4/20\n",
      "864/864 [==============================] - 85s 98ms/step - loss: 1.1456 - accuracy: 0.6748 - val_loss: 1.0004 - val_accuracy: 0.7855\n",
      "Epoch 5/20\n",
      "864/864 [==============================] - 83s 96ms/step - loss: 0.9695 - accuracy: 0.7442 - val_loss: 0.8865 - val_accuracy: 0.7951\n",
      "Epoch 6/20\n",
      "864/864 [==============================] - 84s 97ms/step - loss: 0.8905 - accuracy: 0.7431 - val_loss: 0.7936 - val_accuracy: 0.8248\n",
      "Epoch 7/20\n",
      "864/864 [==============================] - 82s 95ms/step - loss: 0.8182 - accuracy: 0.7812 - val_loss: 0.7166 - val_accuracy: 0.8315\n",
      "Epoch 8/20\n",
      "864/864 [==============================] - 83s 96ms/step - loss: 0.7585 - accuracy: 0.7778 - val_loss: 0.6982 - val_accuracy: 0.8377\n",
      "Epoch 9/20\n",
      "864/864 [==============================] - 85s 98ms/step - loss: 0.7292 - accuracy: 0.7824 - val_loss: 0.6298 - val_accuracy: 0.8618\n",
      "Epoch 10/20\n",
      "864/864 [==============================] - 86s 99ms/step - loss: 0.6499 - accuracy: 0.8044 - val_loss: 0.5786 - val_accuracy: 0.8573\n",
      "Epoch 11/20\n",
      "864/864 [==============================] - 84s 97ms/step - loss: 0.6215 - accuracy: 0.8056 - val_loss: 0.5582 - val_accuracy: 0.8584\n",
      "Epoch 12/20\n",
      "864/864 [==============================] - 84s 97ms/step - loss: 0.5737 - accuracy: 0.8275 - val_loss: 0.5147 - val_accuracy: 0.8841\n",
      "Epoch 13/20\n",
      "864/864 [==============================] - 84s 97ms/step - loss: 0.5011 - accuracy: 0.8530 - val_loss: 0.4536 - val_accuracy: 0.9081\n",
      "Epoch 14/20\n",
      "864/864 [==============================] - 83s 96ms/step - loss: 0.5186 - accuracy: 0.8461 - val_loss: 0.4424 - val_accuracy: 0.9012\n",
      "Epoch 15/20\n",
      "864/864 [==============================] - 85s 99ms/step - loss: 0.4831 - accuracy: 0.8530 - val_loss: 0.4124 - val_accuracy: 0.8976\n",
      "Epoch 16/20\n",
      "864/864 [==============================] - 85s 98ms/step - loss: 0.4512 - accuracy: 0.8634 - val_loss: 0.3864 - val_accuracy: 0.9099\n",
      "Epoch 17/20\n",
      "864/864 [==============================] - 86s 100ms/step - loss: 0.4147 - accuracy: 0.8785 - val_loss: 0.3472 - val_accuracy: 0.9230\n",
      "Epoch 18/20\n",
      "864/864 [==============================] - 85s 98ms/step - loss: 0.3853 - accuracy: 0.8866 - val_loss: 0.3407 - val_accuracy: 0.9150\n",
      "Epoch 19/20\n",
      "864/864 [==============================] - 83s 97ms/step - loss: 0.3955 - accuracy: 0.8785 - val_loss: 0.3230 - val_accuracy: 0.9209\n",
      "Epoch 20/20\n",
      "864/864 [==============================] - 83s 96ms/step - loss: 0.3269 - accuracy: 0.9167 - val_loss: 0.3197 - val_accuracy: 0.9186\n"
     ]
    },
    {
     "data": {
      "text/plain": [
       "<tensorflow.python.keras.callbacks.History at 0x15b16f18828>"
      ]
     },
     "execution_count": 114,
     "metadata": {},
     "output_type": "execute_result"
    }
   ],
   "source": [
    "batch_size = 1\n",
    "model.fit_generator(\n",
    "      train_generator,\n",
    "      steps_per_epoch = train_generator.samples // batch_size,\n",
    "      validation_data = validation_generator, \n",
    "      validation_steps = validation_generator.samples // batch_size,\n",
    "      epochs = 20)"
   ]
  },
  {
   "cell_type": "markdown",
   "metadata": {},
   "source": [
    "### Got accuracy of 91 percent in training set and test set"
   ]
  },
  {
   "cell_type": "markdown",
   "metadata": {},
   "source": [
    "# Predicting Text from Images"
   ]
  },
  {
   "cell_type": "code",
   "execution_count": 300,
   "metadata": {},
   "outputs": [],
   "source": [
    "model.save('plate_model.h5')"
   ]
  },
  {
   "cell_type": "code",
   "execution_count": 6,
   "metadata": {},
   "outputs": [],
   "source": [
    "from tensorflow.keras.models import load_model"
   ]
  },
  {
   "cell_type": "code",
   "execution_count": 7,
   "metadata": {},
   "outputs": [],
   "source": [
    "model=load_model('plate_model.h5')"
   ]
  },
  {
   "cell_type": "code",
   "execution_count": 207,
   "metadata": {},
   "outputs": [],
   "source": [
    "mypath=\"E:\\\\Machine_Learning_Models\\\\numberplate_dataset\\\\Plates\\\\\""
   ]
  },
  {
   "cell_type": "code",
   "execution_count": 8,
   "metadata": {},
   "outputs": [],
   "source": [
    "def fix_dimension(img): \n",
    "    new_img = np.zeros((28,28,3))\n",
    "    for i in range(3):\n",
    "        new_img[:,:,i] = img\n",
    "    return new_img\n",
    "  \n",
    "def show_results():\n",
    "    dic = {}\n",
    "    characters = '0123456789ABCDEFGHIJKLMNOPQRSTUVWXYZ'\n",
    "    for i,c in enumerate(characters):\n",
    "        dic[i] = c\n",
    "\n",
    "    output = []\n",
    "    if len(char)!=0:\n",
    "        for i,ch in enumerate(char): #iterating over the characters\n",
    "            img_ = cv2.resize(ch, (28,28))\n",
    "            img = fix_dimension(img_)\n",
    "            img = img.reshape(1,28,28,3) #preparing image for the model\n",
    "            y_ = model.predict_classes(img)[0] #predicting the class\n",
    "            character = dic[y_] #\n",
    "            output.append(character) #storing the result in a list\n",
    "    else:\n",
    "        output=\"Cannot see the number plate, use another image\"\n",
    "\n",
    "    plate_number = ''.join(output)\n",
    "    \n",
    "    return plate_number\n",
    "\n"
   ]
  },
  {
   "cell_type": "code",
   "execution_count": 38,
   "metadata": {},
   "outputs": [
    {
     "data": {
      "image/png": "[encoded data removed]",
      "text/plain": [
       "<Figure size 432x288 with 1 Axes>"
      ]
     },
     "metadata": {
      "needs_background": "light"
     },
     "output_type": "display_data"
    },
    {
     "data": {
      "image/png": "[encoded data removed]",
      "text/plain": [
       "<Figure size 432x288 with 1 Axes>"
      ]
     },
     "metadata": {
      "needs_background": "light"
     },
     "output_type": "display_data"
    },
    {
     "name": "stdout",
     "output_type": "stream",
     "text": [
      "KL55R2473\n"
     ]
    }
   ],
   "source": [
    "char = segment_characters(roi)\n",
    "print(show_results())"
   ]
  }
 ],
 "metadata": {
  "kernelspec": {
   "display_name": "Python 3",
   "language": "python",
   "name": "python3"
  },
  "language_info": {
   "codemirror_mode": {
    "name": "ipython",
    "version": 3
   },
   "file_extension": ".py",
   "mimetype": "text/x-python",
   "name": "python",
   "nbconvert_exporter": "python",
   "pygments_lexer": "ipython3",
   "version": "3.7.3"
  }
 },
 "nbformat": 4,
 "nbformat_minor": 2
}
